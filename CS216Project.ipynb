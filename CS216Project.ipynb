{
 "cells": [
  {
   "cell_type": "code",
   "execution_count": 39,
   "id": "c4d1919e",
   "metadata": {},
   "outputs": [],
   "source": [
    "# Run this code cell to import relevant libraries\n",
    "\n",
    "import numpy as np\n",
    "import pandas as pd\n",
    "import seaborn as sns"
   ]
  },
  {
   "cell_type": "code",
   "execution_count": 40,
   "id": "76d8e8d5",
   "metadata": {},
   "outputs": [
    {
     "name": "stdout",
     "output_type": "stream",
     "text": [
      "<bound method NDFrame.head of                hotel  is_canceled  lead_time  arrival_date_year  \\\n",
      "0       Resort Hotel            0        342               2015   \n",
      "1       Resort Hotel            0        737               2015   \n",
      "2       Resort Hotel            0          7               2015   \n",
      "3       Resort Hotel            0         13               2015   \n",
      "4       Resort Hotel            0         14               2015   \n",
      "...              ...          ...        ...                ...   \n",
      "119385    City Hotel            0         23               2017   \n",
      "119386    City Hotel            0        102               2017   \n",
      "119387    City Hotel            0         34               2017   \n",
      "119388    City Hotel            0        109               2017   \n",
      "119389    City Hotel            0        205               2017   \n",
      "\n",
      "       arrival_date_month  arrival_date_week_number  \\\n",
      "0                    July                        27   \n",
      "1                    July                        27   \n",
      "2                    July                        27   \n",
      "3                    July                        27   \n",
      "4                    July                        27   \n",
      "...                   ...                       ...   \n",
      "119385             August                        35   \n",
      "119386             August                        35   \n",
      "119387             August                        35   \n",
      "119388             August                        35   \n",
      "119389             August                        35   \n",
      "\n",
      "        arrival_date_day_of_month  stays_in_weekend_nights  \\\n",
      "0                               1                        0   \n",
      "1                               1                        0   \n",
      "2                               1                        0   \n",
      "3                               1                        0   \n",
      "4                               1                        0   \n",
      "...                           ...                      ...   \n",
      "119385                         30                        2   \n",
      "119386                         31                        2   \n",
      "119387                         31                        2   \n",
      "119388                         31                        2   \n",
      "119389                         29                        2   \n",
      "\n",
      "        stays_in_week_nights  adults  ...  reserved_room_type  \\\n",
      "0                          0       2  ...                   C   \n",
      "1                          0       2  ...                   C   \n",
      "2                          1       1  ...                   A   \n",
      "3                          1       1  ...                   A   \n",
      "4                          2       2  ...                   A   \n",
      "...                      ...     ...  ...                 ...   \n",
      "119385                     5       2  ...                   A   \n",
      "119386                     5       3  ...                   E   \n",
      "119387                     5       2  ...                   D   \n",
      "119388                     5       2  ...                   A   \n",
      "119389                     7       2  ...                   A   \n",
      "\n",
      "        assigned_room_type booking_changes deposit_type  agent  \\\n",
      "0                        C               3   No Deposit    0.0   \n",
      "1                        C               4   No Deposit    0.0   \n",
      "2                        C               0   No Deposit    0.0   \n",
      "3                        A               0   No Deposit  304.0   \n",
      "4                        A               0   No Deposit  240.0   \n",
      "...                    ...             ...          ...    ...   \n",
      "119385                   A               0   No Deposit  394.0   \n",
      "119386                   E               0   No Deposit    9.0   \n",
      "119387                   D               0   No Deposit    9.0   \n",
      "119388                   A               0   No Deposit   89.0   \n",
      "119389                   A               0   No Deposit    9.0   \n",
      "\n",
      "       days_in_waiting_list  customer_type     adr  \\\n",
      "0                         0      Transient    0.00   \n",
      "1                         0      Transient    0.00   \n",
      "2                         0      Transient   75.00   \n",
      "3                         0      Transient   75.00   \n",
      "4                         0      Transient   98.00   \n",
      "...                     ...            ...     ...   \n",
      "119385                    0      Transient   96.14   \n",
      "119386                    0      Transient  225.43   \n",
      "119387                    0      Transient  157.71   \n",
      "119388                    0      Transient  104.40   \n",
      "119389                    0      Transient  151.20   \n",
      "\n",
      "        required_car_parking_spaces total_of_special_requests  \n",
      "0                                 0                         0  \n",
      "1                                 0                         0  \n",
      "2                                 0                         0  \n",
      "3                                 0                         0  \n",
      "4                                 0                         1  \n",
      "...                             ...                       ...  \n",
      "119385                            0                         0  \n",
      "119386                            0                         2  \n",
      "119387                            0                         4  \n",
      "119388                            0                         0  \n",
      "119389                            0                         2  \n",
      "\n",
      "[119390 rows x 29 columns]>\n"
     ]
    }
   ],
   "source": [
    "hotels = pd.read_csv(\"hotels.csv\")\n",
    "hotels = hotels.fillna(0)\n",
    "hotels = hotels.drop(columns = [\"company\",\"reservation_status\",\"reservation_status_date\"])\n",
    "print(hotels.head)"
   ]
  },
  {
   "cell_type": "code",
   "execution_count": 56,
   "id": "2d96971e",
   "metadata": {},
   "outputs": [
    {
     "name": "stdout",
     "output_type": "stream",
     "text": [
      "[[0. 1. 0. ... 0. 0. 0.]\n",
      " [0. 1. 0. ... 0. 0. 0.]\n",
      " [0. 1. 0. ... 0. 0. 0.]\n",
      " ...\n",
      " [1. 0. 0. ... 0. 0. 4.]\n",
      " [1. 0. 0. ... 0. 0. 0.]\n",
      " [1. 0. 0. ... 0. 0. 2.]]\n",
      "[[0. 1. 0. ... 1. 0. 0.]\n",
      " [0. 1. 0. ... 1. 0. 0.]\n",
      " [0. 1. 0. ... 1. 0. 0.]\n",
      " ...\n",
      " [1. 0. 0. ... 1. 0. 0.]\n",
      " [1. 0. 0. ... 1. 0. 0.]\n",
      " [1. 0. 0. ... 1. 0. 0.]]\n"
     ]
    }
   ],
   "source": [
    "from sklearn.preprocessing import OneHotEncoder\n",
    "\n",
    "target = hotels[\"adr\"]\n",
    "tot = hotels.drop(columns = [\"adr\"])\n",
    "cats = hotels[[\"hotel\",\"arrival_date_month\", \"customer_type\", \"meal\", \"country\", \"market_segment\",\"distribution_channel\", \"reserved_room_type\",\"assigned_room_type\", \"deposit_type\"]].astype(str).values\n",
    "categorical = OneHotEncoder().fit_transform(cats).toarray()\n",
    "numerical = tot.drop(columns = [\"hotel\",\"arrival_date_month\", \"customer_type\", \"meal\", \"country\", \"market_segment\",\"distribution_channel\", \"reserved_room_type\",\"assigned_room_type\", \"deposit_type\"]).values\n",
    "data = np.append(categorical, numerical, axis=1)\n",
    "print(data)\n",
    "print(categorical)"
   ]
  },
  {
   "cell_type": "code",
   "execution_count": 57,
   "id": "71d7b0b0",
   "metadata": {},
   "outputs": [],
   "source": [
    "from sklearn.model_selection import train_test_split\n",
    "\n",
    "train_data, test_data, train_target, test_target = train_test_split(\n",
    "    data, target, test_size=0.3, random_state=216)"
   ]
  },
  {
   "cell_type": "code",
   "execution_count": 58,
   "id": "1180b14d",
   "metadata": {},
   "outputs": [
    {
     "name": "stdout",
     "output_type": "stream",
     "text": [
      "1127.6137098389586\n",
      "0.5584642613780899\n"
     ]
    }
   ],
   "source": [
    "from sklearn.linear_model import LinearRegression\n",
    "from sklearn.metrics import mean_squared_error\n",
    "from sklearn.metrics import r2_score\n",
    "\n",
    "linear_model = LinearRegression()\n",
    "linear_model.fit(X=data, y=target)\n",
    "predicted = linear_model.predict(data)\n",
    "\n",
    "mse = mean_squared_error(target, predicted)\n",
    "r2 = r2_score(target, predicted)\n",
    "print(mse)\n",
    "print(r2)"
   ]
  },
  {
   "cell_type": "code",
   "execution_count": null,
   "id": "1e705bfb",
   "metadata": {},
   "outputs": [],
   "source": []
  }
 ],
 "metadata": {
  "kernelspec": {
   "display_name": "Python 3 (ipykernel)",
   "language": "python",
   "name": "python3"
  },
  "language_info": {
   "codemirror_mode": {
    "name": "ipython",
    "version": 3
   },
   "file_extension": ".py",
   "mimetype": "text/x-python",
   "name": "python",
   "nbconvert_exporter": "python",
   "pygments_lexer": "ipython3",
   "version": "3.9.6"
  }
 },
 "nbformat": 4,
 "nbformat_minor": 5
}
