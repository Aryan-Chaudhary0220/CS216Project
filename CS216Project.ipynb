{
 "cells": [
  {
   "cell_type": "code",
   "execution_count": 1,
   "metadata": {},
   "outputs": [],
   "source": [
    "# Run this code cell to import relevant libraries\n",
    "\n",
    "import numpy as np\n",
    "import pandas as pd\n",
    "import seaborn as sns"
   ]
  },
  {
   "cell_type": "code",
   "execution_count": 2,
   "metadata": {},
   "outputs": [
    {
     "name": "stdout",
     "output_type": "stream",
     "text": [
      "<bound method NDFrame.head of                hotel  is_canceled  lead_time  arrival_date_year  \\\n",
      "0       Resort Hotel            0        342               2015   \n",
      "1       Resort Hotel            0        737               2015   \n",
      "2       Resort Hotel            0          7               2015   \n",
      "3       Resort Hotel            0         13               2015   \n",
      "4       Resort Hotel            0         14               2015   \n",
      "...              ...          ...        ...                ...   \n",
      "119385    City Hotel            0         23               2017   \n",
      "119386    City Hotel            0        102               2017   \n",
      "119387    City Hotel            0         34               2017   \n",
      "119388    City Hotel            0        109               2017   \n",
      "119389    City Hotel            0        205               2017   \n",
      "\n",
      "       arrival_date_month  arrival_date_week_number  \\\n",
      "0                    July                        27   \n",
      "1                    July                        27   \n",
      "2                    July                        27   \n",
      "3                    July                        27   \n",
      "4                    July                        27   \n",
      "...                   ...                       ...   \n",
      "119385             August                        35   \n",
      "119386             August                        35   \n",
      "119387             August                        35   \n",
      "119388             August                        35   \n",
      "119389             August                        35   \n",
      "\n",
      "        arrival_date_day_of_month  stays_in_weekend_nights  \\\n",
      "0                               1                        0   \n",
      "1                               1                        0   \n",
      "2                               1                        0   \n",
      "3                               1                        0   \n",
      "4                               1                        0   \n",
      "...                           ...                      ...   \n",
      "119385                         30                        2   \n",
      "119386                         31                        2   \n",
      "119387                         31                        2   \n",
      "119388                         31                        2   \n",
      "119389                         29                        2   \n",
      "\n",
      "        stays_in_week_nights  adults  ...  reserved_room_type  \\\n",
      "0                          0       2  ...                   C   \n",
      "1                          0       2  ...                   C   \n",
      "2                          1       1  ...                   A   \n",
      "3                          1       1  ...                   A   \n",
      "4                          2       2  ...                   A   \n",
      "...                      ...     ...  ...                 ...   \n",
      "119385                     5       2  ...                   A   \n",
      "119386                     5       3  ...                   E   \n",
      "119387                     5       2  ...                   D   \n",
      "119388                     5       2  ...                   A   \n",
      "119389                     7       2  ...                   A   \n",
      "\n",
      "        assigned_room_type booking_changes deposit_type  agent  \\\n",
      "0                        C               3   No Deposit    0.0   \n",
      "1                        C               4   No Deposit    0.0   \n",
      "2                        C               0   No Deposit    0.0   \n",
      "3                        A               0   No Deposit  304.0   \n",
      "4                        A               0   No Deposit  240.0   \n",
      "...                    ...             ...          ...    ...   \n",
      "119385                   A               0   No Deposit  394.0   \n",
      "119386                   E               0   No Deposit    9.0   \n",
      "119387                   D               0   No Deposit    9.0   \n",
      "119388                   A               0   No Deposit   89.0   \n",
      "119389                   A               0   No Deposit    9.0   \n",
      "\n",
      "       days_in_waiting_list  customer_type     adr  \\\n",
      "0                         0      Transient    0.00   \n",
      "1                         0      Transient    0.00   \n",
      "2                         0      Transient   75.00   \n",
      "3                         0      Transient   75.00   \n",
      "4                         0      Transient   98.00   \n",
      "...                     ...            ...     ...   \n",
      "119385                    0      Transient   96.14   \n",
      "119386                    0      Transient  225.43   \n",
      "119387                    0      Transient  157.71   \n",
      "119388                    0      Transient  104.40   \n",
      "119389                    0      Transient  151.20   \n",
      "\n",
      "        required_car_parking_spaces total_of_special_requests  \n",
      "0                                 0                         0  \n",
      "1                                 0                         0  \n",
      "2                                 0                         0  \n",
      "3                                 0                         0  \n",
      "4                                 0                         1  \n",
      "...                             ...                       ...  \n",
      "119385                            0                         0  \n",
      "119386                            0                         2  \n",
      "119387                            0                         4  \n",
      "119388                            0                         0  \n",
      "119389                            0                         2  \n",
      "\n",
      "[119390 rows x 29 columns]>\n"
     ]
    }
   ],
   "source": [
    "hotels = pd.read_csv(\"hotels.csv\")\n",
    "hotels = hotels.fillna(0)\n",
    "hotels = hotels.drop(columns = [\"company\",\"reservation_status\",\"reservation_status_date\"])\n",
    "print(hotels.head)"
   ]
  },
  {
   "cell_type": "code",
   "execution_count": 3,
   "metadata": {},
   "outputs": [
    {
     "name": "stdout",
     "output_type": "stream",
     "text": [
      "[[0. 1. 0. ... 0. 0. 0.]\n",
      " [0. 1. 0. ... 0. 0. 0.]\n",
      " [0. 1. 0. ... 0. 0. 0.]\n",
      " ...\n",
      " [1. 0. 0. ... 0. 0. 4.]\n",
      " [1. 0. 0. ... 0. 0. 0.]\n",
      " [1. 0. 0. ... 0. 0. 2.]]\n",
      "[[0. 1. 0. ... 1. 0. 0.]\n",
      " [0. 1. 0. ... 1. 0. 0.]\n",
      " [0. 1. 0. ... 1. 0. 0.]\n",
      " ...\n",
      " [1. 0. 0. ... 1. 0. 0.]\n",
      " [1. 0. 0. ... 1. 0. 0.]\n",
      " [1. 0. 0. ... 1. 0. 0.]]\n"
     ]
    }
   ],
   "source": [
    "from sklearn.preprocessing import OneHotEncoder\n",
    "\n",
    "target = hotels[\"adr\"]\n",
    "tot = hotels.drop(columns = [\"adr\"])\n",
    "cats = hotels[[\"hotel\",\"arrival_date_month\", \"customer_type\", \"meal\", \"country\", \"market_segment\",\"distribution_channel\", \"reserved_room_type\",\"assigned_room_type\", \"deposit_type\"]].astype(str).values\n",
    "categorical = OneHotEncoder().fit_transform(cats).toarray()\n",
    "numerical = tot.drop(columns = [\"hotel\",\"arrival_date_month\", \"customer_type\", \"meal\", \"country\", \"market_segment\",\"distribution_channel\", \"reserved_room_type\",\"assigned_room_type\", \"deposit_type\"]).values\n",
    "data = np.append(categorical, numerical, axis=1)\n",
    "print(data)\n",
    "print(categorical)"
   ]
  },
  {
   "cell_type": "code",
   "execution_count": 4,
   "metadata": {},
   "outputs": [],
   "source": [
    "from sklearn.model_selection import train_test_split\n",
    "\n",
    "train_data, test_data, train_target, test_target = train_test_split(\n",
    "    data, target, test_size=0.3, random_state=216)"
   ]
  },
  {
   "cell_type": "code",
   "execution_count": 5,
   "metadata": {},
   "outputs": [
    {
     "name": "stdout",
     "output_type": "stream",
     "text": [
      "1127.6136952033266\n",
      "0.5584642671089128\n"
     ]
    }
   ],
   "source": [
    "from sklearn.linear_model import LinearRegression\n",
    "from sklearn.metrics import mean_squared_error\n",
    "from sklearn.metrics import r2_score\n",
    "\n",
    "\n",
    "linear_model = LinearRegression()\n",
    "linear_model.fit(X=data, y=target)\n",
    "predicted = linear_model.predict(data)\n",
    "\n",
    "mse = mean_squared_error(target, predicted)\n",
    "r2 = r2_score(target, predicted)\n",
    "print(mse)\n",
    "print(r2)"
   ]
  },
  {
   "cell_type": "code",
   "execution_count": null,
   "metadata": {},
   "outputs": [],
   "source": []
  },
  {
   "cell_type": "code",
   "execution_count": 6,
   "metadata": {},
   "outputs": [],
   "source": [
    "data = pd.read_csv(\"hotels.csv\")\n",
    "data.drop(inplace=True, axis=1, labels=['agent', 'company','hotel','reservation_status_date'])\n",
    "data.fillna(data.mode().iloc[0], inplace=True)"
   ]
  },
  {
   "cell_type": "code",
   "execution_count": 7,
   "metadata": {},
   "outputs": [],
   "source": [
    "X = data.iloc[:,1:]\n",
    "y = data.iloc[:,0]"
   ]
  },
  {
   "cell_type": "code",
   "execution_count": 8,
   "metadata": {},
   "outputs": [],
   "source": [
    "from sklearn.compose import make_column_transformer\n",
    "ct = make_column_transformer(\n",
    "    (OneHotEncoder(),['meal','distribution_channel','reservation_status','country','arrival_date_month','market_segment','deposit_type','customer_type', 'reserved_room_type','assigned_room_type' ]), remainder = 'passthrough'\n",
    "    )\n",
    "X = ct.fit_transform(X).toarray()"
   ]
  },
  {
   "cell_type": "code",
   "execution_count": 9,
   "metadata": {},
   "outputs": [],
   "source": [
    "from sklearn.model_selection import train_test_split\n",
    "X_train, X_test, y_train, y_test = train_test_split(X, y, test_size = 0.2, random_state = 0)"
   ]
  },
  {
   "cell_type": "code",
   "execution_count": 10,
   "metadata": {},
   "outputs": [],
   "source": [
    "from sklearn.preprocessing import StandardScaler\n",
    "sc = StandardScaler()\n",
    "X_train = sc.fit_transform(X_train)\n",
    "X_test = sc.transform(X_test)"
   ]
  },
  {
   "cell_type": "code",
   "execution_count": 11,
   "metadata": {},
   "outputs": [],
   "source": [
    "from sklearn.decomposition import PCA\n",
    "pca = PCA(n_components = 100)\n",
    "X_train = pca.fit_transform(X_train)\n",
    "X_test = pca.transform(X_test)\n",
    "explained_variance = pca.explained_variance_ratio_"
   ]
  },
  {
   "cell_type": "code",
   "execution_count": 12,
   "metadata": {},
   "outputs": [
    {
     "data": {
      "text/plain": [
       "LogisticRegression(max_iter=1000, random_state=0)"
      ]
     },
     "execution_count": 12,
     "metadata": {},
     "output_type": "execute_result"
    }
   ],
   "source": [
    "from sklearn.linear_model import LogisticRegression\n",
    "classifier = LogisticRegression(random_state = 0, max_iter=1000)\n",
    "classifier.fit(X_train, y_train)"
   ]
  },
  {
   "cell_type": "code",
   "execution_count": 15,
   "metadata": {},
   "outputs": [
    {
     "data": {
      "text/plain": [
       "array([[14904,    30],\n",
       "       [   22,  8922]])"
      ]
     },
     "execution_count": 15,
     "metadata": {},
     "output_type": "execute_result"
    }
   ],
   "source": [
    "y_pred = classifier.predict(X_test)\n",
    "from sklearn.metrics import confusion_matrix\n",
    "cm = confusion_matrix(y_test, y_pred)\n",
    "cm"
   ]
  },
  {
   "cell_type": "markdown",
   "metadata": {},
   "source": [
    "23849 / 23878 * 100 = 99.85% accuracy"
   ]
  }
 ],
 "metadata": {
  "kernelspec": {
   "display_name": "Python 3",
   "language": "python",
   "name": "python3"
  },
  "language_info": {
   "codemirror_mode": {
    "name": "ipython",
    "version": 3
   },
   "file_extension": ".py",
   "mimetype": "text/x-python",
   "name": "python",
   "nbconvert_exporter": "python",
   "pygments_lexer": "ipython3",
   "version": "3.8.3"
  }
 },
 "nbformat": 4,
 "nbformat_minor": 5
}
